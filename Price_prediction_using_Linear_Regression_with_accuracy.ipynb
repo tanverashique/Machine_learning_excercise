{
 "cells": [
  {
   "cell_type": "markdown",
   "id": "5ba47497",
   "metadata": {},
   "source": [
    "#### Introduction\n",
    "\n",
    "This is a simple excercise for practicing linear regression, a very basic ML algorithm, also will measure the accuracy of the model. KPIs for the model accuracy are below:\n",
    "\n",
    "1. RMSE\n",
    "2. MAE\n",
    "3. MAPE\n",
    "4. MSE\n",
    "5. R squared\n",
    "\n",
    "We will use a data set from kaggle (source: https://www.kaggle.com/aishwaryamuthukumar/cars-dataset-audi-bmw-ford-hyundai-skoda-vw).\n",
    "\n"
   ]
  },
  {
   "cell_type": "markdown",
   "id": "bdca7b7e",
   "metadata": {},
   "source": [
    "#### Importing Libraries\n",
    "\n",
    "As the first step, import the libraries required (this process is iterative, we might come back at the middle of the coding to add a new library)."
   ]
  },
  {
   "cell_type": "code",
   "execution_count": 63,
   "id": "5c128559",
   "metadata": {},
   "outputs": [],
   "source": [
    "import pandas as pd\n",
    "import numpy as np\n",
    "from sklearn.model_selection import train_test_split\n",
    "from sklearn.linear_model import LinearRegression\n",
    "from sklearn.metrics import accuracy_score"
   ]
  },
  {
   "cell_type": "markdown",
   "id": "6ff8867d",
   "metadata": {},
   "source": [
    "#### Importing data file\n",
    "\n",
    "At this step, import the data set, we are importing it from github here."
   ]
  },
  {
   "cell_type": "code",
   "execution_count": 64,
   "id": "09053d4e",
   "metadata": {},
   "outputs": [],
   "source": [
    "df = pd.read_csv(\"https://raw.githubusercontent.com/SKawsar/Data_Visualization_with_Python/main/bmw.csv\")"
   ]
  },
  {
   "cell_type": "code",
   "execution_count": 65,
   "id": "ab6cfb89",
   "metadata": {},
   "outputs": [
    {
     "data": {
      "text/html": [
       "<div>\n",
       "<style scoped>\n",
       "    .dataframe tbody tr th:only-of-type {\n",
       "        vertical-align: middle;\n",
       "    }\n",
       "\n",
       "    .dataframe tbody tr th {\n",
       "        vertical-align: top;\n",
       "    }\n",
       "\n",
       "    .dataframe thead th {\n",
       "        text-align: right;\n",
       "    }\n",
       "</style>\n",
       "<table border=\"1\" class=\"dataframe\">\n",
       "  <thead>\n",
       "    <tr style=\"text-align: right;\">\n",
       "      <th></th>\n",
       "      <th>model</th>\n",
       "      <th>year</th>\n",
       "      <th>price</th>\n",
       "      <th>transmission</th>\n",
       "      <th>mileage</th>\n",
       "      <th>fuelType</th>\n",
       "      <th>mpg</th>\n",
       "      <th>engineSize</th>\n",
       "    </tr>\n",
       "  </thead>\n",
       "  <tbody>\n",
       "    <tr>\n",
       "      <th>0</th>\n",
       "      <td>5 Series</td>\n",
       "      <td>2014</td>\n",
       "      <td>11200</td>\n",
       "      <td>Automatic</td>\n",
       "      <td>67068</td>\n",
       "      <td>Diesel</td>\n",
       "      <td>57.6</td>\n",
       "      <td>2.0</td>\n",
       "    </tr>\n",
       "    <tr>\n",
       "      <th>1</th>\n",
       "      <td>6 Series</td>\n",
       "      <td>2018</td>\n",
       "      <td>27000</td>\n",
       "      <td>Automatic</td>\n",
       "      <td>14827</td>\n",
       "      <td>Petrol</td>\n",
       "      <td>42.8</td>\n",
       "      <td>2.0</td>\n",
       "    </tr>\n",
       "    <tr>\n",
       "      <th>2</th>\n",
       "      <td>5 Series</td>\n",
       "      <td>2016</td>\n",
       "      <td>16000</td>\n",
       "      <td>Automatic</td>\n",
       "      <td>62794</td>\n",
       "      <td>Diesel</td>\n",
       "      <td>51.4</td>\n",
       "      <td>3.0</td>\n",
       "    </tr>\n",
       "    <tr>\n",
       "      <th>3</th>\n",
       "      <td>1 Series</td>\n",
       "      <td>2017</td>\n",
       "      <td>12750</td>\n",
       "      <td>Automatic</td>\n",
       "      <td>26676</td>\n",
       "      <td>Diesel</td>\n",
       "      <td>72.4</td>\n",
       "      <td>1.5</td>\n",
       "    </tr>\n",
       "    <tr>\n",
       "      <th>4</th>\n",
       "      <td>7 Series</td>\n",
       "      <td>2014</td>\n",
       "      <td>14500</td>\n",
       "      <td>Automatic</td>\n",
       "      <td>39554</td>\n",
       "      <td>Diesel</td>\n",
       "      <td>50.4</td>\n",
       "      <td>3.0</td>\n",
       "    </tr>\n",
       "  </tbody>\n",
       "</table>\n",
       "</div>"
      ],
      "text/plain": [
       "       model  year  price transmission  mileage fuelType   mpg  engineSize\n",
       "0   5 Series  2014  11200    Automatic    67068   Diesel  57.6         2.0\n",
       "1   6 Series  2018  27000    Automatic    14827   Petrol  42.8         2.0\n",
       "2   5 Series  2016  16000    Automatic    62794   Diesel  51.4         3.0\n",
       "3   1 Series  2017  12750    Automatic    26676   Diesel  72.4         1.5\n",
       "4   7 Series  2014  14500    Automatic    39554   Diesel  50.4         3.0"
      ]
     },
     "execution_count": 65,
     "metadata": {},
     "output_type": "execute_result"
    }
   ],
   "source": [
    "df.head() #to check if the data loaded correctly"
   ]
  },
  {
   "cell_type": "markdown",
   "id": "8f5f8613",
   "metadata": {},
   "source": [
    "The first step of this task, loading the required data, is done. Lets describe the features for easy understanding:\n",
    "\n",
    "Model: represent the model of the car.\n",
    "\n",
    "Year: Year the model was launched.\n",
    "\n",
    "Price: reselling price of the car.\n",
    "\n",
    "Transmission: Transmission type of the car.\n",
    "\n",
    "Mileage: total distance the car already travelled.\n",
    "\n",
    "fuelType: fuel the car required.\n",
    "\n",
    "mpg: Distance travelled per gallon of fuel.\n",
    "\n",
    "engineSize: The engine size of the car."
   ]
  },
  {
   "cell_type": "markdown",
   "id": "4f0e91fe",
   "metadata": {},
   "source": [
    "Now, check the features more closely, which features are numeric and which are object."
   ]
  },
  {
   "cell_type": "code",
   "execution_count": 66,
   "id": "3e703d47",
   "metadata": {},
   "outputs": [
    {
     "name": "stdout",
     "output_type": "stream",
     "text": [
      "<class 'pandas.core.frame.DataFrame'>\n",
      "RangeIndex: 10781 entries, 0 to 10780\n",
      "Data columns (total 8 columns):\n",
      " #   Column        Non-Null Count  Dtype  \n",
      "---  ------        --------------  -----  \n",
      " 0   model         10781 non-null  object \n",
      " 1   year          10781 non-null  int64  \n",
      " 2   price         10781 non-null  int64  \n",
      " 3   transmission  10781 non-null  object \n",
      " 4   mileage       10781 non-null  int64  \n",
      " 5   fuelType      10781 non-null  object \n",
      " 6   mpg           10781 non-null  float64\n",
      " 7   engineSize    10781 non-null  float64\n",
      "dtypes: float64(2), int64(3), object(3)\n",
      "memory usage: 673.9+ KB\n",
      "None\n"
     ]
    }
   ],
   "source": [
    "print(df.info())"
   ]
  },
  {
   "cell_type": "markdown",
   "id": "47804fc0",
   "metadata": {},
   "source": [
    "Check for missing value"
   ]
  },
  {
   "cell_type": "code",
   "execution_count": 67,
   "id": "b1be901b",
   "metadata": {},
   "outputs": [
    {
     "data": {
      "text/plain": [
       "model           0\n",
       "year            0\n",
       "price           0\n",
       "transmission    0\n",
       "mileage         0\n",
       "fuelType        0\n",
       "mpg             0\n",
       "engineSize      0\n",
       "dtype: int64"
      ]
     },
     "execution_count": 67,
     "metadata": {},
     "output_type": "execute_result"
    }
   ],
   "source": [
    "df.isnull().sum()"
   ]
  },
  {
   "cell_type": "markdown",
   "id": "0184d133",
   "metadata": {},
   "source": [
    "No missing value, we have our data set description, now we will separate the feaures and target variable. We will take numeric columns as features here. And Price will be target variable."
   ]
  },
  {
   "cell_type": "code",
   "execution_count": 68,
   "id": "f3497614",
   "metadata": {},
   "outputs": [
    {
     "data": {
      "text/html": [
       "<div>\n",
       "<style scoped>\n",
       "    .dataframe tbody tr th:only-of-type {\n",
       "        vertical-align: middle;\n",
       "    }\n",
       "\n",
       "    .dataframe tbody tr th {\n",
       "        vertical-align: top;\n",
       "    }\n",
       "\n",
       "    .dataframe thead th {\n",
       "        text-align: right;\n",
       "    }\n",
       "</style>\n",
       "<table border=\"1\" class=\"dataframe\">\n",
       "  <thead>\n",
       "    <tr style=\"text-align: right;\">\n",
       "      <th></th>\n",
       "      <th>year</th>\n",
       "      <th>mileage</th>\n",
       "      <th>mpg</th>\n",
       "      <th>engineSize</th>\n",
       "    </tr>\n",
       "  </thead>\n",
       "  <tbody>\n",
       "    <tr>\n",
       "      <th>0</th>\n",
       "      <td>2014</td>\n",
       "      <td>67068</td>\n",
       "      <td>57.6</td>\n",
       "      <td>2.0</td>\n",
       "    </tr>\n",
       "    <tr>\n",
       "      <th>1</th>\n",
       "      <td>2018</td>\n",
       "      <td>14827</td>\n",
       "      <td>42.8</td>\n",
       "      <td>2.0</td>\n",
       "    </tr>\n",
       "    <tr>\n",
       "      <th>2</th>\n",
       "      <td>2016</td>\n",
       "      <td>62794</td>\n",
       "      <td>51.4</td>\n",
       "      <td>3.0</td>\n",
       "    </tr>\n",
       "    <tr>\n",
       "      <th>3</th>\n",
       "      <td>2017</td>\n",
       "      <td>26676</td>\n",
       "      <td>72.4</td>\n",
       "      <td>1.5</td>\n",
       "    </tr>\n",
       "    <tr>\n",
       "      <th>4</th>\n",
       "      <td>2014</td>\n",
       "      <td>39554</td>\n",
       "      <td>50.4</td>\n",
       "      <td>3.0</td>\n",
       "    </tr>\n",
       "  </tbody>\n",
       "</table>\n",
       "</div>"
      ],
      "text/plain": [
       "   year  mileage   mpg  engineSize\n",
       "0  2014    67068  57.6         2.0\n",
       "1  2018    14827  42.8         2.0\n",
       "2  2016    62794  51.4         3.0\n",
       "3  2017    26676  72.4         1.5\n",
       "4  2014    39554  50.4         3.0"
      ]
     },
     "execution_count": 68,
     "metadata": {},
     "output_type": "execute_result"
    }
   ],
   "source": [
    "X = df.drop([\"model\", \"price\", \"transmission\", \"fuelType\"], axis=1)\n",
    "Y= df.price\n",
    "X.head()"
   ]
  },
  {
   "cell_type": "markdown",
   "id": "67fee854",
   "metadata": {},
   "source": [
    "Now, before applying the Linear regression, we need to split the dataset, as a standard practice, we will split it to 80-20 (80% training data, 20% testing data). We need to import train_test_split from sklearn.model_selection."
   ]
  },
  {
   "cell_type": "code",
   "execution_count": 69,
   "id": "400ea639",
   "metadata": {},
   "outputs": [],
   "source": [
    "X_train, X_test, y_train, y_test = train_test_split(X, Y, test_size=0.2, random_state=1)"
   ]
  },
  {
   "cell_type": "markdown",
   "id": "33770907",
   "metadata": {},
   "source": [
    "Now, to apply linear regression, we need to import the model from scikit-learn. Then we can apply this directly to our dataset already splitted."
   ]
  },
  {
   "cell_type": "code",
   "execution_count": 70,
   "id": "acd80a1f",
   "metadata": {},
   "outputs": [],
   "source": [
    "model = LinearRegression()"
   ]
  },
  {
   "cell_type": "code",
   "execution_count": 71,
   "id": "601374b8",
   "metadata": {},
   "outputs": [
    {
     "data": {
      "text/plain": [
       "array([28070.5828543 , 24454.46184519, 10840.97137118, ...,\n",
       "       28401.03849011, 30112.51356905, 16222.44919822])"
      ]
     },
     "execution_count": 71,
     "metadata": {},
     "output_type": "execute_result"
    }
   ],
   "source": [
    "model.fit(X_train, y_train)\n",
    "model.predict(X_test)"
   ]
  },
  {
   "cell_type": "markdown",
   "id": "66ea8bf2",
   "metadata": {},
   "source": [
    "Now, we have our predicted value, to check how good the model fitted, we will check the accuracy scores, as described, we will check 5 different score, a little description is given before code. As a first step, we will create a dataset for ease of calculation."
   ]
  },
  {
   "cell_type": "code",
   "execution_count": 72,
   "id": "be40ccc9",
   "metadata": {},
   "outputs": [
    {
     "data": {
      "text/html": [
       "<div>\n",
       "<style scoped>\n",
       "    .dataframe tbody tr th:only-of-type {\n",
       "        vertical-align: middle;\n",
       "    }\n",
       "\n",
       "    .dataframe tbody tr th {\n",
       "        vertical-align: top;\n",
       "    }\n",
       "\n",
       "    .dataframe thead th {\n",
       "        text-align: right;\n",
       "    }\n",
       "</style>\n",
       "<table border=\"1\" class=\"dataframe\">\n",
       "  <thead>\n",
       "    <tr style=\"text-align: right;\">\n",
       "      <th></th>\n",
       "      <th>y_actual</th>\n",
       "      <th>y_predicted</th>\n",
       "      <th>dif</th>\n",
       "      <th>abs_error</th>\n",
       "      <th>squared_error</th>\n",
       "      <th>actual_subtract_mean</th>\n",
       "      <th>squared_actual_subtract_mean</th>\n",
       "    </tr>\n",
       "  </thead>\n",
       "  <tbody>\n",
       "    <tr>\n",
       "      <th>3840</th>\n",
       "      <td>35470</td>\n",
       "      <td>28070.582854</td>\n",
       "      <td>7399.417146</td>\n",
       "      <td>7399.417146</td>\n",
       "      <td>5.475137e+07</td>\n",
       "      <td>12640.937413</td>\n",
       "      <td>1.597933e+08</td>\n",
       "    </tr>\n",
       "    <tr>\n",
       "      <th>7757</th>\n",
       "      <td>15490</td>\n",
       "      <td>24454.461845</td>\n",
       "      <td>-8964.461845</td>\n",
       "      <td>8964.461845</td>\n",
       "      <td>8.036158e+07</td>\n",
       "      <td>-7339.062587</td>\n",
       "      <td>5.386184e+07</td>\n",
       "    </tr>\n",
       "    <tr>\n",
       "      <th>10325</th>\n",
       "      <td>17000</td>\n",
       "      <td>10840.971371</td>\n",
       "      <td>6159.028629</td>\n",
       "      <td>6159.028629</td>\n",
       "      <td>3.793363e+07</td>\n",
       "      <td>-5829.062587</td>\n",
       "      <td>3.397797e+07</td>\n",
       "    </tr>\n",
       "    <tr>\n",
       "      <th>685</th>\n",
       "      <td>10991</td>\n",
       "      <td>9436.633065</td>\n",
       "      <td>1554.366935</td>\n",
       "      <td>1554.366935</td>\n",
       "      <td>2.416057e+06</td>\n",
       "      <td>-11838.062587</td>\n",
       "      <td>1.401397e+08</td>\n",
       "    </tr>\n",
       "    <tr>\n",
       "      <th>1947</th>\n",
       "      <td>21050</td>\n",
       "      <td>21811.413561</td>\n",
       "      <td>-761.413561</td>\n",
       "      <td>761.413561</td>\n",
       "      <td>5.797506e+05</td>\n",
       "      <td>-1779.062587</td>\n",
       "      <td>3.165064e+06</td>\n",
       "    </tr>\n",
       "    <tr>\n",
       "      <th>...</th>\n",
       "      <td>...</td>\n",
       "      <td>...</td>\n",
       "      <td>...</td>\n",
       "      <td>...</td>\n",
       "      <td>...</td>\n",
       "      <td>...</td>\n",
       "      <td>...</td>\n",
       "    </tr>\n",
       "    <tr>\n",
       "      <th>9964</th>\n",
       "      <td>19980</td>\n",
       "      <td>16990.638004</td>\n",
       "      <td>2989.361996</td>\n",
       "      <td>2989.361996</td>\n",
       "      <td>8.936285e+06</td>\n",
       "      <td>-2849.062587</td>\n",
       "      <td>8.117158e+06</td>\n",
       "    </tr>\n",
       "    <tr>\n",
       "      <th>2039</th>\n",
       "      <td>33980</td>\n",
       "      <td>32127.152828</td>\n",
       "      <td>1852.847172</td>\n",
       "      <td>1852.847172</td>\n",
       "      <td>3.433043e+06</td>\n",
       "      <td>11150.937413</td>\n",
       "      <td>1.243434e+08</td>\n",
       "    </tr>\n",
       "    <tr>\n",
       "      <th>1608</th>\n",
       "      <td>19372</td>\n",
       "      <td>28401.038490</td>\n",
       "      <td>-9029.038490</td>\n",
       "      <td>9029.038490</td>\n",
       "      <td>8.152354e+07</td>\n",
       "      <td>-3457.062587</td>\n",
       "      <td>1.195128e+07</td>\n",
       "    </tr>\n",
       "    <tr>\n",
       "      <th>6951</th>\n",
       "      <td>35793</td>\n",
       "      <td>30112.513569</td>\n",
       "      <td>5680.486431</td>\n",
       "      <td>5680.486431</td>\n",
       "      <td>3.226793e+07</td>\n",
       "      <td>12963.937413</td>\n",
       "      <td>1.680637e+08</td>\n",
       "    </tr>\n",
       "    <tr>\n",
       "      <th>9357</th>\n",
       "      <td>12350</td>\n",
       "      <td>16222.449198</td>\n",
       "      <td>-3872.449198</td>\n",
       "      <td>3872.449198</td>\n",
       "      <td>1.499586e+07</td>\n",
       "      <td>-10479.062587</td>\n",
       "      <td>1.098108e+08</td>\n",
       "    </tr>\n",
       "  </tbody>\n",
       "</table>\n",
       "<p>2157 rows × 7 columns</p>\n",
       "</div>"
      ],
      "text/plain": [
       "       y_actual   y_predicted          dif    abs_error  squared_error  \\\n",
       "3840      35470  28070.582854  7399.417146  7399.417146   5.475137e+07   \n",
       "7757      15490  24454.461845 -8964.461845  8964.461845   8.036158e+07   \n",
       "10325     17000  10840.971371  6159.028629  6159.028629   3.793363e+07   \n",
       "685       10991   9436.633065  1554.366935  1554.366935   2.416057e+06   \n",
       "1947      21050  21811.413561  -761.413561   761.413561   5.797506e+05   \n",
       "...         ...           ...          ...          ...            ...   \n",
       "9964      19980  16990.638004  2989.361996  2989.361996   8.936285e+06   \n",
       "2039      33980  32127.152828  1852.847172  1852.847172   3.433043e+06   \n",
       "1608      19372  28401.038490 -9029.038490  9029.038490   8.152354e+07   \n",
       "6951      35793  30112.513569  5680.486431  5680.486431   3.226793e+07   \n",
       "9357      12350  16222.449198 -3872.449198  3872.449198   1.499586e+07   \n",
       "\n",
       "       actual_subtract_mean  squared_actual_subtract_mean  \n",
       "3840           12640.937413                  1.597933e+08  \n",
       "7757           -7339.062587                  5.386184e+07  \n",
       "10325          -5829.062587                  3.397797e+07  \n",
       "685           -11838.062587                  1.401397e+08  \n",
       "1947           -1779.062587                  3.165064e+06  \n",
       "...                     ...                           ...  \n",
       "9964           -2849.062587                  8.117158e+06  \n",
       "2039           11150.937413                  1.243434e+08  \n",
       "1608           -3457.062587                  1.195128e+07  \n",
       "6951           12963.937413                  1.680637e+08  \n",
       "9357          -10479.062587                  1.098108e+08  \n",
       "\n",
       "[2157 rows x 7 columns]"
      ]
     },
     "metadata": {},
     "output_type": "display_data"
    }
   ],
   "source": [
    "y_actual = y_test\n",
    "y_predicted = model.predict(X_test)\n",
    "df_accuracy = pd.DataFrame({\"y_actual\":y_actual,\n",
    "                   \"y_predicted\": y_predicted})\n",
    "\n",
    "\n",
    "\n",
    "df_accuracy[\"dif\"] = df_accuracy[\"y_actual\"] - df_accuracy[\"y_predicted\"]\n",
    "df_accuracy[\"abs_error\"] = np.abs(df_accuracy[\"dif\"])\n",
    "df_accuracy[\"squared_error\"] = df_accuracy[\"dif\"]**2\n",
    "\n",
    "df_accuracy[\"actual_subtract_mean\"] = df_accuracy[\"y_actual\"] - df_accuracy[\"y_actual\"].mean()\n",
    "df_accuracy[\"squared_actual_subtract_mean\"] = df_accuracy[\"actual_subtract_mean\"]**2\n",
    "\n",
    "\n",
    "display(df_accuracy)"
   ]
  },
  {
   "cell_type": "code",
   "execution_count": 73,
   "id": "d451eec2",
   "metadata": {},
   "outputs": [
    {
     "name": "stdout",
     "output_type": "stream",
     "text": [
      "MAE =  4616.644554773189\n",
      "MAPE =  23.88\n",
      "MSE =  47012798.583861955\n",
      "RMSE =  6856.59\n",
      "r_squared =  0.64\n"
     ]
    }
   ],
   "source": [
    "# mean absolute error (MAE): mean of absolute errors, where absolute errors are the difference between actual value and predicted value. lower is better\n",
    "MAE = df_accuracy[\"abs_error\"].mean()\n",
    "print(\"MAE = \", MAE)\n",
    "\n",
    "# Mean Absolute Percentage Error (MAPE): It measures this accuracy as a percentage, and can be calculated as the average absolute percent error, it is the difference between actual values and predicted values divided by actual values. lower is better\n",
    "MAPE = np.round(np.mean(df_accuracy[\"abs_error\"]/df_accuracy[\"y_actual\"])*100, 2)\n",
    "print(\"MAPE = \", MAPE)\n",
    "\n",
    "# mean squared error (MSE): mean of square of the difference between the actual value and predicted value. lower is better\n",
    "MSE = df_accuracy[\"squared_error\"].mean()\n",
    "print(\"MSE = \", MSE)\n",
    "\n",
    "# root mean squared error: simply the root of MSE. lower is better\n",
    "RMSE = np.round(np.sqrt(MSE), 2)\n",
    "print(\"RMSE = \", RMSE)\n",
    "\n",
    "# coefficient of determination == r_squared: The coefficient of determination is a statistical measurement that examines how differences in one variable can be explained by the difference in a second variable, when predicting the outcome of a given event. In other words, this coefficient, which is more commonly known as R-squared (or R2), assesses how strong the linear relationship is between two variables. greater is better. Max =1, min=-\n",
    "r_squared = np.round(1- df_accuracy[\"squared_error\"].sum()/df_accuracy[\"squared_actual_subtract_mean\"].sum(), 2)\n",
    "print(\"r_squared = \", r_squared)"
   ]
  },
  {
   "cell_type": "markdown",
   "id": "35342890",
   "metadata": {},
   "source": [
    "The accuracy results we found are not optimistic, either the linear regression model is not a good fit for this problem, or the features  we excluded are very important."
   ]
  }
 ],
 "metadata": {
  "kernelspec": {
   "display_name": "Python 3 (ipykernel)",
   "language": "python",
   "name": "python3"
  },
  "language_info": {
   "codemirror_mode": {
    "name": "ipython",
    "version": 3
   },
   "file_extension": ".py",
   "mimetype": "text/x-python",
   "name": "python",
   "nbconvert_exporter": "python",
   "pygments_lexer": "ipython3",
   "version": "3.8.8"
  }
 },
 "nbformat": 4,
 "nbformat_minor": 5
}
